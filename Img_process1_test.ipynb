{
  "nbformat": 4,
  "nbformat_minor": 0,
  "metadata": {
    "colab": {
      "name": "Img process1 test.ipynb",
      "provenance": [],
      "authorship_tag": "ABX9TyNKo//Zy7vdVUmbqVjUOb+O",
      "include_colab_link": true
    },
    "kernelspec": {
      "name": "python3",
      "display_name": "Python 3"
    },
    "language_info": {
      "name": "python"
    }
  },
  "cells": [
    {
      "cell_type": "markdown",
      "metadata": {
        "id": "view-in-github",
        "colab_type": "text"
      },
      "source": [
        "<a href=\"https://colab.research.google.com/github/rosalinsahoo73/rosalinsahoo73/blob/main/Img_process1_test.ipynb\" target=\"_parent\"><img src=\"https://colab.research.google.com/assets/colab-badge.svg\" alt=\"Open In Colab\"/></a>"
      ]
    },
    {
      "cell_type": "code",
      "execution_count": null,
      "metadata": {
        "id": "q5APaeK-ErhG"
      },
      "outputs": [],
      "source": [
        "from PIL import Image\n",
        " \n",
        " \n",
        "# test.png => location_of_image\n",
        "img = Image.open(r\"test.png\")  \n"
      ]
    },
    {
      "cell_type": "code",
      "source": [
        "from PIL import Image\n",
        " \n",
        " \n",
        "img = Image.open(r\"test.png\")\n",
        "img.show()"
      ],
      "metadata": {
        "id": "mOlzvR0zFHbw"
      },
      "execution_count": null,
      "outputs": []
    },
    {
      "cell_type": "code",
      "source": [
        "from PIL import Image\n",
        " \n",
        " \n",
        "img = Image.open(r\"test.png\")\n",
        "print(img.mode)"
      ],
      "metadata": {
        "colab": {
          "base_uri": "https://localhost:8080/"
        },
        "id": "X2_vc03AFPbr",
        "outputId": "e4882d1f-97bc-4fd1-cadd-15ba990e1b42"
      },
      "execution_count": null,
      "outputs": [
        {
          "output_type": "stream",
          "name": "stdout",
          "text": [
            "RGBA\n"
          ]
        }
      ]
    },
    {
      "cell_type": "code",
      "source": [
        "from PIL import Image\n",
        " \n",
        " \n",
        "img = Image.open(r\"test.png\")\n",
        "print(img.size)"
      ],
      "metadata": {
        "colab": {
          "base_uri": "https://localhost:8080/"
        },
        "id": "SI0eEwvTFUSk",
        "outputId": "4dc7c228-eb75-4f88-8eb4-a8280b5a7644"
      },
      "execution_count": null,
      "outputs": [
        {
          "output_type": "stream",
          "name": "stdout",
          "text": [
            "(180, 263)\n"
          ]
        }
      ]
    },
    {
      "cell_type": "code",
      "source": [
        "from PIL import Image\n",
        " \n",
        " \n",
        "img = Image.open(r\"test.png\")\n",
        "print(img.format)"
      ],
      "metadata": {
        "colab": {
          "base_uri": "https://localhost:8080/"
        },
        "id": "ID6NqOCKFbEh",
        "outputId": "8ddbc60a-397b-46f2-e6a2-fe20befd22f0"
      },
      "execution_count": null,
      "outputs": [
        {
          "output_type": "stream",
          "name": "stdout",
          "text": [
            "PNG\n"
          ]
        }
      ]
    },
    {
      "cell_type": "code",
      "source": [
        "from PIL import Image\n",
        " \n",
        " \n",
        "angle = 70\n",
        "img = Image.open(r\"test.png\")\n",
        "r_img = img.rotate(angle)"
      ],
      "metadata": {
        "id": "PwAoWyG1FklO"
      },
      "execution_count": null,
      "outputs": []
    },
    {
      "cell_type": "code",
      "source": [
        "from PIL import Image\n",
        " \n",
        " \n",
        "size = (100, 100)\n",
        "img = Image.open(r\"test.png\")\n",
        "r_img = img.resize(size)\n",
        " \n",
        "r_img.show()"
      ],
      "metadata": {
        "id": "JUswy3EHF7uw"
      },
      "execution_count": null,
      "outputs": []
    },
    {
      "cell_type": "code",
      "source": [
        "from PIL import Image\n",
        " \n",
        " \n",
        "size = (40, 40)\n",
        "img = Image.open(r\"test.png\")\n",
        "r_img = img.resize(size, resample = Image.BILINEAR)\n",
        " \n",
        "# resized_test.png => Destination_path\n",
        "r_img.save(\"resized_test.png\")\n",
        " \n",
        "# Opening the new image\n",
        "img = Image.open(r\"resized_test.png\")\n",
        "print(img.size)"
      ],
      "metadata": {
        "colab": {
          "base_uri": "https://localhost:8080/"
        },
        "id": "LJsIq3x0GAFp",
        "outputId": "71d6b7ef-79da-4489-c4c8-a0ee11e1da56"
      },
      "execution_count": null,
      "outputs": [
        {
          "output_type": "stream",
          "name": "stdout",
          "text": [
            "(40, 40)\n"
          ]
        }
      ]
    },
    {
      "cell_type": "code",
      "source": [
        "from mpl_toolkits.mplot3d import Axes3D\n",
        "from sklearn.preprocessing import StandardScaler\n",
        "import matplotlib.pyplot as plt # plotting\n",
        "import numpy as np # linear algebra\n",
        "import os # accessing directory structure\n",
        "import pandas as pd # data processing, CSV file I/O (e.g. pd.read_csv)\n"
      ],
      "metadata": {
        "id": "SGjTkBu0KkyO"
      },
      "execution_count": null,
      "outputs": []
    },
    {
      "cell_type": "code",
      "source": [
        "for dirname, _, filenames in os.walk('/kaggle/input'):\n",
        "    for filename in filenames:\n",
        "        print(os.path.join(dirname, filename))\n"
      ],
      "metadata": {
        "id": "Da7ubNDFKqd7"
      },
      "execution_count": null,
      "outputs": []
    },
    {
      "cell_type": "code",
      "source": [
        "# Distribution graphs (histogram/bar graph) of column data\n",
        "def plotPerColumnDistribution(df, nGraphShown, nGraphPerRow):\n",
        "    nunique = df.nunique()\n",
        "    df = df[[col for col in df if nunique[col] > 1 and nunique[col] < 50]] # For displaying purposes, pick columns that have between 1 and 50 unique values\n",
        "    nRow, nCol = df.shape\n",
        "    columnNames = list(df)\n",
        "    nGraphRow = (nCol + nGraphPerRow - 1) / nGraphPerRow\n",
        "    plt.figure(num = None, figsize = (6 * nGraphPerRow, 8 * nGraphRow), dpi = 80, facecolor = 'w', edgecolor = 'k')\n",
        "    for i in range(min(nCol, nGraphShown)):\n",
        "        plt.subplot(nGraphRow, nGraphPerRow, i + 1)\n",
        "        columnDf = df.iloc[:, i]\n",
        "        if (not np.issubdtype(type(columnDf.iloc[0]), np.number)):\n",
        "            valueCounts = columnDf.value_counts()\n",
        "            valueCounts.plot.bar()\n",
        "        else:\n",
        "            columnDf.hist()\n",
        "        plt.ylabel('counts')\n",
        "        plt.xticks(rotation = 90)\n",
        "        plt.title(f'{columnNames[i]} (column {i})')\n",
        "    plt.tight_layout(pad = 1.0, w_pad = 1.0, h_pad = 1.0)\n",
        "    plt.show()"
      ],
      "metadata": {
        "id": "U-5hG01tKxWP"
      },
      "execution_count": null,
      "outputs": []
    }
  ]
}