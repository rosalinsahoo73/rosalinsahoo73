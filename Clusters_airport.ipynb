{
  "cells": [
    {
      "cell_type": "markdown",
      "metadata": {
        "id": "view-in-github",
        "colab_type": "text"
      },
      "source": [
        "<a href=\"https://colab.research.google.com/github/rosalinsahoo73/rosalinsahoo73/blob/main/Clusters_airport.ipynb\" target=\"_parent\"><img src=\"https://colab.research.google.com/assets/colab-badge.svg\" alt=\"Open In Colab\"/></a>"
      ]
    },
    {
      "cell_type": "code",
      "execution_count": null,
      "id": "eb3755d1",
      "metadata": {
        "id": "eb3755d1"
      },
      "outputs": [],
      "source": [
        "import numpy as np\n",
        "import pandas as pd\n",
        "import matplotlib.pyplot as plt\n",
        "from gurobipy import *"
      ]
    },
    {
      "cell_type": "code",
      "execution_count": null,
      "id": "fc9b7a51",
      "metadata": {
        "id": "fc9b7a51"
      },
      "outputs": [],
      "source": [
        "data =  [[\"Delhi\", 50, 90], \n",
        "         [\"Mumbai\", 30, 60], \n",
        "         [\"Hyderabad\", 50, 30],\n",
        "         [\"Chennai\", 65, 1],\n",
        "         [\"Surat\", 1, 75],\n",
        "         [\"Kolkata\", 90, 75],\n",
        "         [\"Patna\", 75, 79],\n",
        "         [\"Nagpur\", 35, 65],\n",
        "         [\"Chandigarh\", 40, 100],\n",
        "         [\"Assam\", 120, 88],\n",
        "         [\"Bangalore\", 45, 10],\n",
        "         [\"Bhopal\", 55, 67]]"
      ]
    },
    {
      "cell_type": "code",
      "execution_count": null,
      "id": "7f50589a",
      "metadata": {
        "id": "7f50589a"
      },
      "outputs": [],
      "source": [
        "airports_df = pd.DataFrame(data = data, columns = [\"City\",\"X\",\"Y\"])"
      ]
    },
    {
      "cell_type": "code",
      "execution_count": null,
      "id": "3dbdc0d1",
      "metadata": {
        "id": "3dbdc0d1"
      },
      "outputs": [],
      "source": [
        "#no_of_clusters = int(input(\"How wany clusters to look for ? \"))\n",
        "no_of_clusters = 4"
      ]
    },
    {
      "cell_type": "code",
      "execution_count": null,
      "id": "c5acd6e6",
      "metadata": {
        "id": "c5acd6e6"
      },
      "outputs": [],
      "source": [
        "hubs = [\"Delhi\",\"Mumbai\",\"Kolkata\",\"Hyderabad\"]\n",
        "def hub(i):\n",
        "    if i > no_of_clusters:\n",
        "        return\n",
        "    ch = input(\"Enter airport's name : \").capitalize()\n",
        "    if ch in list(airports_df.City):\n",
        "        major_airports.append(ch)\n",
        "        hub(i+1)\n",
        "    else:\n",
        "        print(\"\\tEnter correct airport's name...Retry\")\n",
        "        hub(i)\n",
        "#hub(1)"
      ]
    },
    {
      "cell_type": "code",
      "execution_count": null,
      "id": "625a103f",
      "metadata": {
        "id": "625a103f",
        "outputId": "ebc3d974-91f4-4f6b-f6ad-c9703d9a0b87"
      },
      "outputs": [
        {
          "data": {
            "image/png": "[encoded data removed]",
            "text/plain": [
              "<Figure size 432x288 with 1 Axes>"
            ]
          },
          "metadata": {
            "needs_background": "light"
          },
          "output_type": "display_data"
        }
      ],
      "source": [
        "plt.scatter(airports_df.X,airports_df.Y)\n",
        "for i,j in enumerate(airports_df.City):\n",
        "    plt.annotate(j, (airports_df.X[i],airports_df.Y[i]))"
      ]
    },
    {
      "cell_type": "code",
      "execution_count": null,
      "id": "84e1f233",
      "metadata": {
        "id": "84e1f233",
        "outputId": "752e95f2-52d0-4ea4-ef5d-95a5776555d0"
      },
      "outputs": [
        {
          "data": {
            "text/plain": [
              "array([[  0,  36,  60,  90,  51,  42,  27,  29,  14,  70,  80,  23],\n",
              "       [ 36,   0,  36,  68,  32,  61,  48,   7,  41,  94,  52,  25],\n",
              "       [ 60,  36,   0,  32,  66,  60,  55,  38,  70,  90,  20,  37],\n",
              "       [ 90,  68,  32,   0,  97,  78,  78,  70, 102, 102,  21,  66],\n",
              "       [ 51,  32,  66,  97,   0,  89,  74,  35,  46, 119,  78,  54],\n",
              "       [ 42,  61,  60,  78,  89,   0,  15,  55,  55,  32,  79,  35],\n",
              "       [ 27,  48,  55,  78,  74,  15,   0,  42,  40,  45,  75,  23],\n",
              "       [ 29,   7,  38,  70,  35,  55,  42,   0,  35,  88,  55,  20],\n",
              "       [ 14,  41,  70, 102,  46,  55,  40,  35,   0,  80,  90,  36],\n",
              "       [ 70,  94,  90, 102, 119,  32,  45,  88,  80,   0, 108,  68],\n",
              "       [ 80,  52,  20,  21,  78,  79,  75,  55,  90, 108,   0,  57],\n",
              "       [ 23,  25,  37,  66,  54,  35,  23,  20,  36,  68,  57,   0]])"
            ]
          },
          "execution_count": 7,
          "metadata": {},
          "output_type": "execute_result"
        }
      ],
      "source": [
        "distance = np.zeros((airports_df.shape[0],airports_df.shape[0]), dtype = \"int32\")\n",
        "for i in range(airports_df.shape[0]):\n",
        "    distance[i] = np.sqrt(np.square(np.array(airports_df.X[i]-airports_df.X)) + np.square(np.array(airports_df.Y[i]-airports_df.Y)))\n",
        "distance"
      ]
    },
    {
      "cell_type": "code",
      "execution_count": null,
      "id": "f75865df",
      "metadata": {
        "id": "f75865df",
        "outputId": "72e30db2-b589-4c31-f000-8054e13991ea"
      },
      "outputs": [
        {
          "name": "stdout",
          "output_type": "stream",
          "text": [
            "[[0, 8, 11], [1, 4, 7, 11], [5, 6, 9], [2, 3, 10]]\n"
          ]
        },
        {
          "name": "stderr",
          "output_type": "stream",
          "text": [
            "<ipython-input-8-c9b96ed5f4cd>:31: SettingWithCopyWarning: \n",
            "A value is trying to be set on a copy of a slice from a DataFrame\n",
            "\n",
            "See the caveats in the documentation: https://pandas.pydata.org/pandas-docs/stable/user_guide/indexing.html#returning-a-view-versus-a-copy\n",
            "  airports_df[\"Group\"][i] = j\n"
          ]
        }
      ],
      "source": [
        "clusters = [[index] for i in hubs for index,j in enumerate(airports_df.City) if i==j]\n",
        "\n",
        "def feasible_cluster(d):\n",
        "    c = []\n",
        "    pos = np.argsort(d)\n",
        "    c.append(pos[0])\n",
        "    for i in range(no_of_clusters-1):\n",
        "        if d[pos[i+1]] - d[pos[0]] <= 3 :\n",
        "            c.append(pos[i+1])\n",
        "    return c\n",
        "    \n",
        "\n",
        "for i in range(airports_df.shape[0]):\n",
        "    if airports_df.City[i] in hubs:\n",
        "        continue\n",
        "    else:\n",
        "        d = []\n",
        "        for j in clusters:\n",
        "            d.append(int(distance[i][j[0]]))\n",
        "        pos = np.argmin(d)\n",
        "        if d[pos]<35:\n",
        "            cs = feasible_cluster(d)\n",
        "            for k in cs:\n",
        "                clusters[k].append(i)\n",
        "\n",
        "#airports_df[\"Group\"] = [i for j in range(airports_df.shape[0]) for i in range(no_of_clusters) if j in clusters[i]]\n",
        "airports_df[\"Group\"] = [i for i in range(airports_df.shape[0]) ]\n",
        "for i in range(airports_df.shape[0]):\n",
        "    for j in range(no_of_clusters):\n",
        "        if i in clusters[j]:\n",
        "            airports_df[\"Group\"][i] = j\n",
        "            \n",
        "#for i in range(airports_df.shape[0]):\n",
        "#    if i not in clusters:\n",
        "#        airports_df[\"Group\"] = 4\n",
        "print(clusters)"
      ]
    },
    {
      "cell_type": "code",
      "execution_count": null,
      "id": "0a8a3a69",
      "metadata": {
        "id": "0a8a3a69",
        "outputId": "1ffaff3f-7eda-4719-9bdb-27f70946726e"
      },
      "outputs": [
        {
          "data": {
            "image/png": "[encoded data removed]",
            "text/plain": [
              "<Figure size 432x288 with 1 Axes>"
            ]
          },
          "metadata": {
            "needs_background": "light"
          },
          "output_type": "display_data"
        }
      ],
      "source": [
        "plt.scatter(airports_df.X,airports_df.Y,c = np.array(airports_df[\"Group\"])/(no_of_clusters-1))\n",
        "for i,j in enumerate(airports_df.City):\n",
        "    plt.annotate(j, (airports_df.X[i],airports_df.Y[i]))\n",
        "plt.show();"
      ]
    },
    {
      "cell_type": "markdown",
      "id": "89a459b8",
      "metadata": {
        "id": "89a459b8"
      },
      "source": [
        "**Fleets available at disposal**"
      ]
    },
    {
      "cell_type": "code",
      "execution_count": null,
      "id": "c1a238d5",
      "metadata": {
        "id": "c1a238d5",
        "outputId": "422f0f78-9cb3-43cf-c567-cac006d8a81c"
      },
      "outputs": [
        {
          "data": {
            "text/html": [
              "<div>\n",
              "<style scoped>\n",
              "    .dataframe tbody tr th:only-of-type {\n",
              "        vertical-align: middle;\n",
              "    }\n",
              "\n",
              "    .dataframe tbody tr th {\n",
              "        vertical-align: top;\n",
              "    }\n",
              "\n",
              "    .dataframe thead th {\n",
              "        text-align: right;\n",
              "    }\n",
              "</style>\n",
              "<table border=\"1\" class=\"dataframe\">\n",
              "  <thead>\n",
              "    <tr style=\"text-align: right;\">\n",
              "      <th></th>\n",
              "      <th>Type</th>\n",
              "      <th>Capacity</th>\n",
              "      <th>Range</th>\n",
              "      <th>Number</th>\n",
              "      <th>FixedCost</th>\n",
              "      <th>VariableCost</th>\n",
              "    </tr>\n",
              "  </thead>\n",
              "  <tbody>\n",
              "    <tr>\n",
              "      <th>0</th>\n",
              "      <td>A</td>\n",
              "      <td>250</td>\n",
              "      <td>24</td>\n",
              "      <td>2</td>\n",
              "      <td>1</td>\n",
              "      <td>1.00</td>\n",
              "    </tr>\n",
              "    <tr>\n",
              "      <th>1</th>\n",
              "      <td>B</td>\n",
              "      <td>7500</td>\n",
              "      <td>72</td>\n",
              "      <td>4</td>\n",
              "      <td>10</td>\n",
              "      <td>1.05</td>\n",
              "    </tr>\n",
              "    <tr>\n",
              "      <th>2</th>\n",
              "      <td>D</td>\n",
              "      <td>119600</td>\n",
              "      <td>200</td>\n",
              "      <td>2</td>\n",
              "      <td>10000</td>\n",
              "      <td>0.99</td>\n",
              "    </tr>\n",
              "  </tbody>\n",
              "</table>\n",
              "</div>"
            ],
            "text/plain": [
              "  Type  Capacity  Range  Number  FixedCost  VariableCost\n",
              "0    A       250     24       2          1          1.00\n",
              "1    B      7500     72       4         10          1.05\n",
              "2    D    119600    200       2      10000          0.99"
            ]
          },
          "execution_count": 40,
          "metadata": {},
          "output_type": "execute_result"
        }
      ],
      "source": [
        "fleet =  [[\"A\", 250, 24, 2, 1, 1], \n",
        "         [\"B\", 7500, 72, 4, 10, 1.05], \n",
        "         [\"D\", 119600, 200, 2, 10000, 0.99],\n",
        "         ]\n",
        "fleet_df = pd.DataFrame(data = fleet, columns = [\"Type\",\"Capacity\",\"Range\",\"Number\",\"FixedCost\",\"VariableCost\"])\n",
        "fleet_df"
      ]
    },
    {
      "cell_type": "markdown",
      "id": "c2664f82",
      "metadata": {
        "id": "c2664f82"
      },
      "source": [
        "# Assigning Planes to each Cluster"
      ]
    },
    {
      "cell_type": "markdown",
      "id": "96af516a",
      "metadata": {
        "id": "96af516a"
      },
      "source": [
        "**1.1. Fixed Flights**\n",
        "\n",
        "a) These will be direct routes connecting the major airport of each cluster.\n",
        "\n",
        "       (Mumbai -> Delhi), (Mumbai -> Kolkata), (Hyderabad -> Delhi) etc.\n",
        "\n",
        "b) In case there are common nodes in between clusters that node can serve as the linking branch.\n",
        "\n",
        "       (Mumbai -> Bhopal -> Delhi), (Delhi -> Bhopal -> Mumbai)** etc.\n",
        "       \n",
        "       ** Bhopal should be capable to land our biggest aircraft."
      ]
    },
    {
      "cell_type": "code",
      "execution_count": null,
      "id": "85a69894",
      "metadata": {
        "id": "85a69894"
      },
      "outputs": [],
      "source": [
        "#Demand on the direct flight legs\n",
        "\n",
        "#Assuming time period is 1 for these flights\n",
        "\n",
        "demand =  [[\"Mumbai\", \"Delhi\", 65000], \n",
        "           [\"Mumbai\", \"Kolkata\", 35000], \n",
        "           [\"Mumbai\", \"Hyderabad\", 10000],\n",
        "           [\"Kolkata\", \"Delhi\", 45000],\n",
        "           [\"Kolkata\", \"Mumbai\", 25000],\n",
        "           [\"Kolkata\", \"Hyderabad\", 5000],\n",
        "           [\"Hyderabad\", \"Delhi\", 15000],\n",
        "           [\"Hyderabad\", \"Kolkata\", 6000],\n",
        "           [\"Hyderabad\", \"Mumbai\", 9000],\n",
        "           [\"Delhi\", \"Hyderabad\", 4000],\n",
        "           [\"Delhi\", \"Kolkata\", 55000],\n",
        "           [\"Delhi\", \"Mumbai\", 67000]\n",
        "         ]\n",
        "demand_df = pd.DataFrame(data = demand, columns = [\"Origin\",\"Destination\",\"Tonnage\"])"
      ]
    },
    {
      "cell_type": "code",
      "execution_count": null,
      "id": "e96ff2c3",
      "metadata": {
        "id": "e96ff2c3",
        "outputId": "41a71d11-492d-4216-a4b4-33121605e93b"
      },
      "outputs": [
        {
          "name": "stderr",
          "output_type": "stream",
          "text": [
            "<ipython-input-42-6e15aa038196>:6: UserWarning: Boolean Series key will be reindexed to match DataFrame index.\n",
            "  cum_dem.append([i,j,int(demand_df[demand_df.Origin == i][demand_df.Destination == j].Tonnage) + int(demand_df[demand_df.Origin == j][demand_df.Destination == i].Tonnage)])\n"
          ]
        },
        {
          "data": {
            "text/html": [
              "<div>\n",
              "<style scoped>\n",
              "    .dataframe tbody tr th:only-of-type {\n",
              "        vertical-align: middle;\n",
              "    }\n",
              "\n",
              "    .dataframe tbody tr th {\n",
              "        vertical-align: top;\n",
              "    }\n",
              "\n",
              "    .dataframe thead th {\n",
              "        text-align: right;\n",
              "    }\n",
              "</style>\n",
              "<table border=\"1\" class=\"dataframe\">\n",
              "  <thead>\n",
              "    <tr style=\"text-align: right;\">\n",
              "      <th></th>\n",
              "      <th>Airport1</th>\n",
              "      <th>Airport2</th>\n",
              "      <th>Tonnage</th>\n",
              "    </tr>\n",
              "  </thead>\n",
              "  <tbody>\n",
              "    <tr>\n",
              "      <th>0</th>\n",
              "      <td>Delhi</td>\n",
              "      <td>Mumbai</td>\n",
              "      <td>132000</td>\n",
              "    </tr>\n",
              "    <tr>\n",
              "      <th>1</th>\n",
              "      <td>Delhi</td>\n",
              "      <td>Kolkata</td>\n",
              "      <td>90000</td>\n",
              "    </tr>\n",
              "    <tr>\n",
              "      <th>3</th>\n",
              "      <td>Mumbai</td>\n",
              "      <td>Kolkata</td>\n",
              "      <td>60000</td>\n",
              "    </tr>\n",
              "    <tr>\n",
              "      <th>2</th>\n",
              "      <td>Delhi</td>\n",
              "      <td>Hyderabad</td>\n",
              "      <td>19000</td>\n",
              "    </tr>\n",
              "    <tr>\n",
              "      <th>4</th>\n",
              "      <td>Mumbai</td>\n",
              "      <td>Hyderabad</td>\n",
              "      <td>19000</td>\n",
              "    </tr>\n",
              "    <tr>\n",
              "      <th>5</th>\n",
              "      <td>Kolkata</td>\n",
              "      <td>Hyderabad</td>\n",
              "      <td>11000</td>\n",
              "    </tr>\n",
              "  </tbody>\n",
              "</table>\n",
              "</div>"
            ],
            "text/plain": [
              "  Airport1   Airport2  Tonnage\n",
              "0    Delhi     Mumbai   132000\n",
              "1    Delhi    Kolkata    90000\n",
              "3   Mumbai    Kolkata    60000\n",
              "2    Delhi  Hyderabad    19000\n",
              "4   Mumbai  Hyderabad    19000\n",
              "5  Kolkata  Hyderabad    11000"
            ]
          },
          "execution_count": 42,
          "metadata": {},
          "output_type": "execute_result"
        }
      ],
      "source": [
        "cum_dem =[]\n",
        "count = 1\n",
        "for i in hubs:\n",
        "    for j in hubs[count:]:\n",
        "        if i!=j:\n",
        "            cum_dem.append([i,j,int(demand_df[demand_df.Origin == i][demand_df.Destination == j].Tonnage) + int(demand_df[demand_df.Origin == j][demand_df.Destination == i].Tonnage)])\n",
        "    count = count + 1       \n",
        "cum_dem_df = pd.DataFrame(data = cum_dem, columns = [\"Airport1\",\"Airport2\",\"Tonnage\"])\n",
        "cum_dem_df.sort_values(\"Tonnage\", ascending = False, inplace=True)\n",
        "cum_dem_df"
      ]
    },
    {
      "cell_type": "code",
      "execution_count": null,
      "id": "11f892a9",
      "metadata": {
        "id": "11f892a9",
        "outputId": "a89da8b6-38fe-4a91-e537-4c5a2f95caec"
      },
      "outputs": [
        {
          "name": "stdout",
          "output_type": "stream",
          "text": [
            "Gurobi Optimizer version 9.1.2 build v9.1.2rc0 (win64)\n",
            "Thread count: 6 physical cores, 12 logical processors, using up to 12 threads\n",
            "Optimize a model with 108 rows, 96 columns and 228 nonzeros\n",
            "Model fingerprint: 0x0eaf4ccc\n",
            "Variable types: 24 continuous, 72 integer (36 binary)\n",
            "Coefficient statistics:\n",
            "  Matrix range     [1e+00, 1e+05]\n",
            "  Objective range  [1e+00, 1e+00]\n",
            "  Bounds range     [1e+00, 1e+00]\n",
            "  RHS range        [4e+03, 7e+04]\n",
            "Presolve removed 108 rows and 96 columns\n",
            "Presolve time: 0.00s\n",
            "Presolve: All rows and columns removed\n",
            "\n",
            "Explored 0 nodes (0 simplex iterations) in 0.02 seconds\n",
            "Thread count was 1 (of 12 available processors)\n",
            "\n",
            "Solution count 1: 104050 \n",
            "\n",
            "Optimal solution found (tolerance 1.00e-04)\n",
            "Best objective 1.040500000000e+05, best bound 1.040500000000e+05, gap 0.0000%\n"
          ]
        }
      ],
      "source": [
        "mdl = Model('Best Possible Aircraft Combination')\n",
        "\n",
        "L = range(demand_df.shape[0])\n",
        "\n",
        "A = [(mdl.addVar(vtype = GRB.BINARY, name=\"A%s\" % str([index])\n",
        "               .format(index))) for index in L ]\n",
        "\n",
        "B = [(mdl.addVar(vtype = GRB.BINARY, name=\"B%s\" % str([index])\n",
        "               .format(index))) for index in L ]\n",
        "\n",
        "D = [(mdl.addVar(vtype = GRB.BINARY, name=\"D%s\" % str([index])\n",
        "               .format(index))) for index in L ]\n",
        "\n",
        "nA = [(mdl.addVar(vtype = GRB.INTEGER, name=\"nA%s\" % str([index])\n",
        "               .format(index))) for index in L ]\n",
        "\n",
        "nB = [(mdl.addVar(vtype = GRB.INTEGER, name=\"nB%s\" % str([index])\n",
        "               .format(index))) for index in L ]\n",
        "\n",
        "nD = [(mdl.addVar(vtype = GRB.INTEGER, name=\"nD%s\" % str([index])\n",
        "               .format(index))) for index in L ]\n",
        "\n",
        "fix = [(mdl.addVar(vtype = GRB.CONTINUOUS,name=\"fix%s\" % str([i])\n",
        "                   .format(i), lb = 0.0))\n",
        "                   for i in L]\n",
        "\n",
        "var = [(mdl.addVar(vtype = GRB.CONTINUOUS, name=\"var%s\" % str([i])\n",
        "                   .format(i), lb = 0.0))\n",
        "                   for i in L]\n",
        "\n",
        "mdl.update()\n",
        "\n",
        "mdl.modelSense = GRB.MINIMIZE\n",
        "\n",
        "mdl.setObjective(sum(mdl.getVarByName(\"fix\"+str([i])) for i in L) \n",
        "                + sum(mdl.getVarByName(\"var\"+str([i])) for i in L))\n",
        "\n",
        "mdl.addConstrs( (mdl.getVarByName(\"nA\"+str([i])) <= 2*mdl.getVarByName(\"A\"+str([i])) for i in L), name=\"x\")\n",
        "mdl.addConstrs( (mdl.getVarByName(\"nB\"+str([i])) <= 4*mdl.getVarByName(\"B\"+str([i])) for i in L), name=\"x\")\n",
        "mdl.addConstrs( (mdl.getVarByName(\"nD\"+str([i])) <= 2*mdl.getVarByName(\"D\"+str([i])) for i in L), name=\"x\")\n",
        "\n",
        "mdl.addConstrs((demand_df.Tonnage[i]-\n",
        "                (mdl.getVarByName(\"nA\"+str([i]))*int(fleet_df[fleet_df.Type == \"A\"].Capacity)+\n",
        "                mdl.getVarByName(\"nB\"+str([i]))*int(fleet_df[fleet_df.Type == \"B\"].Capacity)+\n",
        "                mdl.getVarByName(\"nD\"+str([i]))*int(fleet_df[fleet_df.Type == \"D\"].Capacity))\n",
        "                <= 0 for i in L), name = \"Capacity Feasibility\");\n",
        "\n",
        "mdl.addConstrs((mdl.getVarByName(\"A\"+str([i]))*\n",
        "                (distance[k,j] - int(fleet_df[fleet_df.Type == \"A\"].Range)) <= 0 \n",
        "                 for i in L for k in range(airports_df.shape[0]) for j in range(airports_df.shape[0])\n",
        "                 if airports_df.City[k]==demand_df.Origin[i] and airports_df.City[j]==demand_df.Destination[i] ), name = \"Range Feasibility\");\n",
        "\n",
        "mdl.addConstrs((mdl.getVarByName(\"B\"+str([i]))*\n",
        "                (distance[k,j] - int(fleet_df[fleet_df.Type == \"B\"].Range)) <= 0 \n",
        "                 for i in L for k in range(airports_df.shape[0]) for j in range(airports_df.shape[0])\n",
        "                 if airports_df.City[k]==demand_df.Origin[i] and airports_df.City[j]==demand_df.Destination[i] ), name = \"Range Feasibility\");\n",
        "\n",
        "mdl.addConstrs((mdl.getVarByName(\"D\"+str([i]))*\n",
        "                (distance[k,j] - int(fleet_df[fleet_df.Type == \"D\"].Range)) <= 0 \n",
        "                 for i in L for k in range(airports_df.shape[0]) for j in range(airports_df.shape[0])\n",
        "                 if airports_df.City[k]==demand_df.Origin[i] and airports_df.City[j]==demand_df.Destination[i] ), name = \"Range Feasibility\");\n",
        "\n",
        "mdl.addConstrs((mdl.getVarByName(\"nA\"+str([i]))*int(fleet_df[fleet_df.Type == \"A\"].FixedCost) + \n",
        "                mdl.getVarByName(\"nB\"+str([i]))*int(fleet_df[fleet_df.Type == \"B\"].FixedCost) + \n",
        "                mdl.getVarByName(\"nD\"+str([i]))*int(fleet_df[fleet_df.Type == \"D\"].FixedCost)\n",
        "                == mdl.getVarByName(\"fix\"+str([i])) for i in L), name = \"Fixed\");\n",
        "\n",
        "mdl.addConstrs((mdl.getVarByName(\"var\"+str([i])) == (\n",
        "                mdl.getVarByName(\"A\"+str([i]))*int(fleet_df[fleet_df.Type == \"A\"].VariableCost) + \n",
        "                mdl.getVarByName(\"B\"+str([i]))*int(fleet_df[fleet_df.Type == \"B\"].VariableCost) + \n",
        "                mdl.getVarByName(\"D\"+str([i]))*int(fleet_df[fleet_df.Type == \"D\"].VariableCost))*demand_df.Tonnage[i]  for i in L), name = \"Variable\");\n",
        "\n",
        "mdl.update()\n",
        "mdl.optimize()"
      ]
    },
    {
      "cell_type": "code",
      "execution_count": null,
      "id": "79eaaeab",
      "metadata": {
        "id": "79eaaeab",
        "outputId": "f6d5e8b6-686a-4995-9aa8-eb56833e25b9"
      },
      "outputs": [
        {
          "name": "stdout",
          "output_type": "stream",
          "text": [
            "Which planes are the best for the given cargo demand?\n",
            "\n",
            "0 th load going from Mumbai to Delhi  : \t 0 0 1\n",
            "1 th load going from Mumbai to Kolkata  : \t 0 0 1\n",
            "2 th load going from Mumbai to Hyderabad  : \t 0 0 1\n",
            "3 th load going from Kolkata to Delhi  : \t 0 0 1\n",
            "4 th load going from Kolkata to Mumbai  : \t 0 0 1\n",
            "5 th load going from Kolkata to Hyderabad  : \t 0 1 0\n",
            "6 th load going from Hyderabad to Delhi  : \t 0 0 1\n",
            "7 th load going from Hyderabad to Kolkata  : \t 0 1 0\n",
            "8 th load going from Hyderabad to Mumbai  : \t 0 2 0\n",
            "9 th load going from Delhi to Hyderabad  : \t 0 1 0\n",
            "10 th load going from Delhi to Kolkata  : \t 0 0 1\n",
            "11 th load going from Delhi to Mumbai  : \t 0 0 1\n"
          ]
        }
      ],
      "source": [
        "print(\"Which planes are the best for the given cargo demand?\\n\")\n",
        "for i in L:\n",
        "    print(i,\"th load going from\",demand_df.Origin[i],\"to\",demand_df.Destination[i],\" :\",\"\\t\",int(mdl.getVarByName(\"nA\"+str([i])).x),int(mdl.getVarByName(\"nB\"+str([i])).x),int(mdl.getVarByName(\"nD\"+str([i])).x))"
      ]
    },
    {
      "cell_type": "markdown",
      "id": "4e8622fd",
      "metadata": {
        "id": "4e8622fd"
      },
      "source": [
        "Analysis and Experience tells the planner that the planes **Type D** will suffice the direct flights as the Hyderabad originating flights can be carried together in the belly of **Type D**."
      ]
    },
    {
      "cell_type": "code",
      "execution_count": null,
      "id": "5b8f84c8",
      "metadata": {
        "id": "5b8f84c8",
        "outputId": "5303b18e-9286-4a1b-997c-a359c0854540"
      },
      "outputs": [
        {
          "data": {
            "text/html": [
              "<div>\n",
              "<style scoped>\n",
              "    .dataframe tbody tr th:only-of-type {\n",
              "        vertical-align: middle;\n",
              "    }\n",
              "\n",
              "    .dataframe tbody tr th {\n",
              "        vertical-align: top;\n",
              "    }\n",
              "\n",
              "    .dataframe thead th {\n",
              "        text-align: right;\n",
              "    }\n",
              "</style>\n",
              "<table border=\"1\" class=\"dataframe\">\n",
              "  <thead>\n",
              "    <tr style=\"text-align: right;\">\n",
              "      <th></th>\n",
              "      <th>Index</th>\n",
              "      <th>type</th>\n",
              "      <th>Origin</th>\n",
              "    </tr>\n",
              "  </thead>\n",
              "  <tbody>\n",
              "    <tr>\n",
              "      <th>0</th>\n",
              "      <td>1</td>\n",
              "      <td>D</td>\n",
              "      <td>Mumbai</td>\n",
              "    </tr>\n",
              "    <tr>\n",
              "      <th>1</th>\n",
              "      <td>2</td>\n",
              "      <td>D</td>\n",
              "      <td>Kolkata</td>\n",
              "    </tr>\n",
              "    <tr>\n",
              "      <th>2</th>\n",
              "      <td>3</td>\n",
              "      <td>B</td>\n",
              "      <td>Hyderabad</td>\n",
              "    </tr>\n",
              "    <tr>\n",
              "      <th>3</th>\n",
              "      <td>4</td>\n",
              "      <td>B</td>\n",
              "      <td>Mumbai</td>\n",
              "    </tr>\n",
              "  </tbody>\n",
              "</table>\n",
              "</div>"
            ],
            "text/plain": [
              "   Index type     Origin\n",
              "0      1    D     Mumbai\n",
              "1      2    D    Kolkata\n",
              "2      3    B  Hyderabad\n",
              "3      4    B     Mumbai"
            ]
          },
          "execution_count": 88,
          "metadata": {},
          "output_type": "execute_result"
        }
      ],
      "source": [
        "d_plane =  [[1,\"D\",\"Mumbai\"], \n",
        "            [2,\"D\",\"Kolkata\"],\n",
        "            [3,\"B\",\"Hyderabad\"],\n",
        "            [4,\"B\",\"Mumbai\"]\n",
        "           ]\n",
        "d_plane_df = pd.DataFrame(data = d_plane, columns = [\"Index\",\"type\",\"Origin\"])\n",
        "d_plane_df"
      ]
    },
    {
      "cell_type": "markdown",
      "id": "059613ec",
      "metadata": {
        "id": "059613ec"
      },
      "source": [
        "Generating possible routes for the direct routes\n",
        "\n",
        "a) Minimising Costs\n",
        "\n",
        "b) Near equal utilisation of each aircraft\n",
        "\n",
        "**Experience tells that each plan can run at max 'N' trips a day**"
      ]
    },
    {
      "cell_type": "code",
      "execution_count": null,
      "id": "0ae2c801",
      "metadata": {
        "id": "0ae2c801",
        "outputId": "8f3a0b81-a0dc-4f02-c5ff-6f8c502fcdc0"
      },
      "outputs": [
        {
          "name": "stdout",
          "output_type": "stream",
          "text": [
            "How many trips a plane can make in a day ? 5\n"
          ]
        }
      ],
      "source": [
        "N = int(input(\"How many trips a plane can make in a day ? \"))"
      ]
    },
    {
      "cell_type": "markdown",
      "id": "8ba461c9",
      "metadata": {
        "id": "8ba461c9"
      },
      "source": [
        "**Step: Develop sub-clusters such that each demand can be satisfied.**"
      ]
    },
    {
      "cell_type": "code",
      "execution_count": null,
      "id": "6937bec1",
      "metadata": {
        "id": "6937bec1",
        "outputId": "25cecce2-6597-4fd8-eefd-6c5f1abd230b"
      },
      "outputs": [
        {
          "data": {
            "text/plain": [
              "2"
            ]
          },
          "execution_count": 91,
          "metadata": {},
          "output_type": "execute_result"
        }
      ],
      "source": [
        "no_sub_clusters = int(demand_df.shape[0]/N)\n",
        "no_sub_clusters"
      ]
    },
    {
      "cell_type": "code",
      "execution_count": null,
      "id": "82fa53ba",
      "metadata": {
        "id": "82fa53ba"
      },
      "outputs": [],
      "source": [
        "hubs_index = [i for i in range(airports_df.shape[0]) if airports_df.City[i] in hubs]\n",
        "\n",
        "max_itinaries = 2\n",
        "\n",
        "def cargo_flow_path(b,ix,orig,dest):\n",
        "    list = []\n",
        "    def feasible(orig,dest,j):\n",
        "        e = 0.75 #eccentricity\n",
        "        a = distance[orig,dest]/(2*e)\n",
        "        b = np.sqrt(a*a-(a*e)**2)\n",
        "        xx = airports_df.X[j] - (airports_df.X[orig]+airports_df.X[dest])/2\n",
        "        yy = airports_df.Y[j] - (airports_df.Y[orig]+airports_df.Y[dest])/2\n",
        "        s = (xx/a)**2 + (yy/b)**2\n",
        "        if s<=1:\n",
        "            return True\n",
        "        else:\n",
        "            return False\n",
        "    \n",
        "    def f(lt,ix):\n",
        "        if ix == 0:\n",
        "            list.append(lt.copy()) \n",
        "        else :\n",
        "            for j in b:\n",
        "                if len(lt) == 0 and feasible(orig,dest,j):\n",
        "                    lt2 = lt.copy()\n",
        "                    lt2.append(j)\n",
        "                    f(lt2.copy(),ix-1)\n",
        "                    \n",
        "                elif len(lt) > 0 and j not in lt and feasible(airports_df.City[lt[-1]],dest,j):\n",
        "                    lt2 = lt.copy()\n",
        "                    lt2.append(j)\n",
        "                    f(lt2.copy(),ix-1)\n",
        "\n",
        "    f(list.copy(),ix)\n",
        "    return list\n",
        "                \n",
        "\n",
        "def cargo_path_generator(index):\n",
        "    orig = [i for i in hubs_index if demand_df.Origin[index] == airports_df.City[i]] \n",
        "    dest = [j for j in hubs_index if demand_df.Destination[index] == airports_df.City[j]]\n",
        "    b = [i for i in hubs_index if i not in orig and i not in dest]\n",
        "    paths = []\n",
        "    paths.append([orig[0],dest[0]])\n",
        "    for i in range(min(max_itinaries,len(hubs_index)-2)):\n",
        "        if i==0:\n",
        "            continue\n",
        "        else:\n",
        "            P = cargo_flow_path(b,i,orig[0],dest[0])\n",
        "            for p in P:\n",
        "                list = []\n",
        "                list.append(orig[0])\n",
        "                for z in p:\n",
        "                    list.append(z)\n",
        "                list.append(dest[0])\n",
        "                paths.append(list)\n",
        "            \n",
        "    return paths\n",
        "\n",
        "paths = [[] for i in range(demand_df.shape[0])]\n",
        "for i in range(demand_df.shape[0]):\n",
        "    paths[i] = cargo_path_generator(i)\n"
      ]
    },
    {
      "cell_type": "code",
      "execution_count": null,
      "id": "e87ac16c",
      "metadata": {
        "id": "e87ac16c",
        "outputId": "41959d66-4db7-4adc-be30-434588381c0d"
      },
      "outputs": [
        {
          "data": {
            "text/plain": [
              "[[[1, 0]],\n",
              " [[1, 5], [1, 0, 5]],\n",
              " [[1, 2]],\n",
              " [[5, 0]],\n",
              " [[5, 1], [5, 0, 1]],\n",
              " [[5, 2]],\n",
              " [[2, 0], [2, 1, 0]],\n",
              " [[2, 5]],\n",
              " [[2, 1]],\n",
              " [[0, 2], [0, 1, 2]],\n",
              " [[0, 5]],\n",
              " [[0, 1]]]"
            ]
          },
          "execution_count": 93,
          "metadata": {},
          "output_type": "execute_result"
        }
      ],
      "source": [
        "paths"
      ]
    },
    {
      "cell_type": "markdown",
      "id": "849309cd",
      "metadata": {
        "id": "849309cd"
      },
      "source": [
        "Assumption: Only cyclic flight routes are considered.\n",
        "\n",
        "**1. Combine all single-legged options together to form the longest possible chain/cycle. (Category A)**\n",
        "\n",
        "**2. Check the feasibility of the multi-legged routes with respect to the biggest aircraft possible on that route. If not, reject them. If for such an od pair no multi-legged alternative exists add the direct link. (Category A)**\n",
        "\n",
        "**3. See if the multi-legged paths are reflected in the chains. If not add them at the necessary locations. (Category B)**\n",
        "\n",
        "**4. Generate \"N\" sub-clusters around the feasible multi-legged chains keeping in mind the maximum number of trips that can be covered.**"
      ]
    },
    {
      "cell_type": "markdown",
      "id": "44e6253c",
      "metadata": {
        "id": "44e6253c"
      },
      "source": [
        "For our generated paths:\n",
        "\n",
        "a) 1 <-> 0 <-> 5 <-> 2 <-> 1\n",
        "\n",
        "b) Path (5->0->1) is not feasible as cumulative demand across 5->0 and 5->1 exceeds the capacity of Type D plane.\n",
        "   i. (1 <-> {0) <-> 5} <-> 2 <-> 1 <-> 5\n",
        "   \n",
        "c) Done.\n",
        "\n",
        "d) Sub-cluster 1: 0 <-> 1 and 0 <-> 5 with no interchangeability between places\n",
        "\n",
        "   Sub-cluster 2: 5 <-> 2 <-> 1 <-> 5 with allowed interchangeability between places\n",
        "   \n",
        "For generating aircraft routes:\n",
        "\n",
        "a) If origin of any plane lies in the sub-cluster, assign that plane to that cluster. Route begins with the origin and can be generated on the basis of the airports in that sub-cluster and its interchangeability condition.\n",
        "\n",
        "Objective is to find routes with the **minimum legs** and the most **cyclical**.\n",
        "\n",
        "For sub-cluster 1 if plane is originally at Node 0 the possible routes are 0->1->0->5->0 or 0->5->0->1->0, the other possibilities are not economical or are infeasible. If the origin was at node 1 the routes could have been 1->0->5->0->1, the other possibilities being uneconomical or infeasible. \n",
        "\n",
        "For sub-cluster 2 if plane is originally at Node 5 the routes can be 5->(A)->(A')->(A)->5 where A can be anything between [1,2]."
      ]
    },
    {
      "cell_type": "markdown",
      "id": "65c754b9",
      "metadata": {
        "id": "65c754b9"
      },
      "source": [
        "**Generate all the routes for the two Type D planes utilised in the direct flights.**\n",
        "\n",
        "**For a T-day period copy the routes T times.**"
      ]
    },
    {
      "cell_type": "markdown",
      "id": "d68305c7",
      "metadata": {
        "id": "d68305c7"
      },
      "source": [
        "**Assigning flights to local clusters**\n",
        "\n",
        "**2.1. Local Flights**\n",
        "\n",
        "a) All minor airports will be shipping cargo to be sent to other clusters to its base.\n",
        "\n",
        "       (Nagpur -> Mumbai), (Bangalore -> Hyderabad), (Bhopal -> Delhi) etc.\n",
        "\n",
        "b) There can be interlinkages as well between the minor airports of each cluster.\n",
        "\n",
        "       (Nagpur <-> Surat), (Chennai -> Bangalore) etc.\n",
        "       \n",
        "c) There can be external flights in this scenario."
      ]
    },
    {
      "cell_type": "markdown",
      "id": "ed52fd75",
      "metadata": {
        "id": "ed52fd75"
      },
      "source": [
        "**Generating the cargo routes**\n",
        "\n",
        "For example, (Surat -> Mumbai -> Kolkata -> Assam)\n",
        "\n",
        "For special cases like Bhopal's location we may even have, (Mumbai/Delhi -> Bhopal -> Kolkata -> Assam)"
      ]
    },
    {
      "cell_type": "markdown",
      "id": "84f7db6e",
      "metadata": {
        "id": "84f7db6e"
      },
      "source": [
        "**The planner is required to allocate the airplanes to each cluster's base through his experience.**\n",
        "\n",
        "**The cluster is also divided into sub-clusters with the right plane assigned to them.**"
      ]
    },
    {
      "cell_type": "markdown",
      "id": "e7f514e1",
      "metadata": {
        "id": "e7f514e1"
      },
      "source": [
        "**Process 1: Identify the flights that can be outsourced. Generate two sets of routes. One without these and one with these**\n",
        "\n",
        "**Process 2: Segregate the everyday flights and periodic flights.**\n",
        "\n",
        "**Process 3: For everyday cases compute all the possible routes and to these routes add periodic flight constituent airport/airports at all places.**\n",
        "\n",
        "Everyday route is (Hyderabad->Bangalore->Chennai->Hyderabad)\n",
        "\n",
        "The possible routes for a periodic airport becomes (Hyderabad->X->Bangalore->Chennai->Hyderabad), (Hyderabad->Bangalore->X->Chennai->Hyderabad), (Hyderabad->Bangalore->Chennai->X->Hyderabad)\n",
        "\n",
        "**Process 4: Repeat the routes for T-day frame.Use best judgement to modify the routes as and when necessary based on sudden demand.**"
      ]
    },
    {
      "cell_type": "markdown",
      "id": "1bf08cf0",
      "metadata": {
        "id": "1bf08cf0"
      },
      "source": [
        "# Now for each individual aircraft we have a set of possible routes and for each cargo a set of possible paths. Additionally we have the information regarding the external flights and the demand forecasts."
      ]
    },
    {
      "cell_type": "markdown",
      "id": "76b523ad",
      "metadata": {
        "id": "76b523ad"
      },
      "source": [
        "**Run basic formulation to select routes just on the objective of minimising route costs.**\n",
        "\n",
        "**Incase of repeating patterns of demand run the model for the smallest time frame that covers all patterns**"
      ]
    },
    {
      "cell_type": "code",
      "execution_count": null,
      "id": "19785d39",
      "metadata": {
        "id": "19785d39"
      },
      "outputs": [],
      "source": [
        "#L = load_indexes\n",
        "#S_len[i] = indexes of paths of each ith cargo\n",
        "#S[i] = set of all cargo paths of ith cargo\n",
        "#R_len[i] = indexes of routes of each ith plane\n",
        "#R[i] = set of all routes of ith plane\n",
        "#N = set of owned planes\n",
        "#E = set of external flights\n",
        "\n",
        "mdl = Model('Route Selector')\n",
        "\n",
        "P = [(mdl.addVar(vtype = GRB.BINARY, name=\"P%s\" % str([index,k])\n",
        "               .format(index,k))) for index in L for k in S_len[index-1]]\n",
        "\n",
        "B = [(mdl.addVar(vtype = GRB.BINARY, name=\"B%s\" % str([i,u])\n",
        "                .format(i,u))) \n",
        "                     for i in N for u in route_len[i-1]]\n",
        "\n",
        "X = [(mdl.addVar(vtype = GRB.BINARY, lb = 0.0, name=\"X%s\" % str([i,index,k,leg])\n",
        "                 .format(i,index,k,leg))) \n",
        "                     for index in L for i in N for k in S_len[index-1] for leg,_ in enumerate(S[index-1][k][:-1])] \n",
        "\n",
        "Z = [(mdl.addVar(vtype = GRB.BINARY, lb = 0.0, name=\"Z%s\" % str([j,index,k,leg])\n",
        "                 .format(j,index,k,leg))) \n",
        "                     for index in L for j in E for k in S_len[index-1] for leg,_ in enumerate(S[index-1][k][:-1])] \n",
        "\n",
        "F = [(mdl.addVar(vtype = GRB.BINARY, name=\"F%s\" % str([i,u,leg,index,k,leg_c])\n",
        "                .format(i,u,leg,index,k,leg_c))) \n",
        "                     for i in N for u in route_len[i-1] for leg,_ in enumerate(routes[i-1][u][:-1])\n",
        "                     for index in L for k in S_len[index-1] for leg_c,_ in enumerate(S[index-1][k][:-1])] \n",
        "\n",
        "Ctrf = [(mdl.addVar(vtype = GRB.CONTINUOUS, name=\"Ctrf%s\" % str([index])\n",
        "                   .format(index), lb = 0.0))\n",
        "                   for index in L]\n",
        "\n",
        "Cfix = [(mdl.addVar(vtype = GRB.CONTINUOUS,name=\"Cfix%s\" % str([i])\n",
        "                   .format(i), lb = 0.0))\n",
        "                   for i in N]\n",
        "\n",
        "Cvar = [(mdl.addVar(vtype = GRB.CONTINUOUS, name=\"Cvar%s\" % str([i])\n",
        "                   .format(i), lb = 0.0))\n",
        "                   for i in N]\n",
        "\n",
        "Cext = [(mdl.addVar(vtype = GRB.CONTINUOUS, name=\"Cext%s\" % str([j])\n",
        "                   .format(j), lb = 0.0))\n",
        "                   for j in E]\n",
        "\n",
        "mdl.update()\n",
        "\n",
        "mdl.modelSense = GRB.MINIMIZE\n",
        "\n",
        "mdl.setObjective(sum(mdl.getVarByName(\"Ctrf\"+str([index])) for index in L)\n",
        "                + sum(mdl.getVarByName(\"Cfix\"+str([i])) for i in N) \n",
        "                + sum(mdl.getVarByName(\"Cvar\"+str([i])) for i in N)\n",
        "                + sum(mdl.getVarByName(\"Cext\"+str([j])) for j in E))"
      ]
    },
    {
      "cell_type": "code",
      "execution_count": null,
      "id": "d386d1a4",
      "metadata": {
        "id": "d386d1a4"
      },
      "outputs": [],
      "source": [
        "#CONSTRAINTS FOR BINARY VARIABLES AND INITIALISATIONS\n",
        "\n",
        "mdl.addConstrs((quicksum(mdl.getVarByName(\"P\"+str([index,k])) \n",
        "                    for k in S_len[index-1]) == 1 for index in L), name = \"One_Path\");\n",
        "\n",
        "mdl.addConstrs((quicksum(mdl.getVarByName(\"B\"+str([i,u])) \n",
        "                    for u in route_len[i-1]) <= 1 for i in N), name = \"At_max_One_Route\");\n",
        "\n",
        "mdl.addConstrs(((\n",
        "    sum(mdl.getVarByName(\"X\"+str([i,index,k,leg])) for i in N) + \n",
        "    sum(mdl.getVarByName(\"Z\"+str([j,index,k,leg])) for j in E)) \n",
        "    == mdl.getVarByName(\"P\"+str([index,k]))\n",
        "        for index in L for k in S_len[index-1] for leg,_ in enumerate(S[index-1][k][:-1]) ), name = \"Only_one_plane_or_no_plane\"); \n",
        "\n",
        "\n",
        "mdl.addConstrs((\n",
        "    mdl.getVarByName(\"X\"+str([i,index,k,leg]))\n",
        "    <= sum(mdl.getVarByName(\"B\"+str([i,u])) for u in route_len[i-1])\n",
        "        for index in L for i in N for k in S_len[index-1] for leg,_ in enumerate(S[index-1][k][:-1]) ), name = \"Route_has_to_be_Selected\");\n",
        "\n",
        "#CARGO CAN JUMP SHIP ONLY AT TRANSFER HUBS\n",
        "\n",
        "mdl.addConstrs((\n",
        "    mdl.getVarByName(\"X\"+str([i,index,k,leg])) \n",
        "    <= mdl.getVarByName(\"X\"+str([i,index,k,leg+1]))\n",
        "    for i in N for index in L for k in S_len[index-1] for leg,_ in enumerate(S[index-1][k][:-2]) \n",
        "    if S[index-1][k][leg+1] not in HUB), name = \"Transfer_Hubs\");\n",
        "\n",
        "#EXTERNAL FLIGHTS MATCH THE REQUIREMENTS OF THE CARGO\n",
        "\n",
        "mdl.addConstrs((\n",
        "    mdl.getVarByName(\"Z\"+str([j,index,k,leg])) <= 1\n",
        "    for j in E for index in L for k in S_len[index-1] for leg,_ in enumerate(S[index-1][k][:-1]) \n",
        "    if ext[j-1][7] == S[index-1][k][leg] and ext[j-1][8] == S[index-1][k][leg+1]), \n",
        "    name = \"Ext_legs_match\");\n",
        "\n",
        "mdl.addConstrs((\n",
        "    sum(mdl.getVarByName(\"Z\"+str([j,index,k,leg])) * \n",
        "    load[index-1][3] for index in L for k in S_len[index-1] for leg,_ in enumerate(S[index-1][k][:-1]))\n",
        "    <= ext[j-1][3] \n",
        "    for j in E), name = \"Weight_constraint_ext\");\n",
        "\n",
        "#ATTACHING FLIGHT ROUTES AND CARGO FLOW PATHS IN A VARIABLE\n",
        "\n",
        "mdl.addConstrs((\n",
        "    sum(\n",
        "        mdl.getVarByName(\"F\"+str([i,u,leg,index,k,leg_c])) \n",
        "        for leg,_ in enumerate(routes[i-1][u][:-1]) \n",
        "        if S[index-1][k][leg_c] == routes[i-1][u][leg] and S[index-1][k][leg_c+1] == routes[i-1][u][leg+1]\n",
        "    )  == \n",
        "    mdl.getVarByName(\"B\" + str([i,u])) * \n",
        "    mdl.getVarByName(\"X\"+str([i,index,k,leg_c]))\n",
        "    for i in N for u in route_len[i-1]\n",
        "    for index in L for k in S_len[index-1] for leg_c,_ in enumerate(S[index-1][k][:-1]) ),name = \"F1\");\n",
        "\n",
        "mdl.addConstrs((\n",
        "    mdl.getVarByName(\"F\"+str([i,u,leg2,index,k,leg_c2])) <= 1 - mdl.getVarByName(\"F\"+str([i,u,leg1,index,k,leg_c1]))\n",
        "    \n",
        "    for i in N for u in route_len[i-1] \n",
        "    for leg1,_ in enumerate(routes[i-1][u][:-1]) for leg2,_ in enumerate(routes[i-1][u][:-1]) \n",
        "    for index in L for k in S_len[index-1] \n",
        "    for leg_c1,_ in enumerate(S[index-1][k][:-1]) for leg_c2,_ in enumerate(S[index-1][k][:-1]) if leg1>leg2 and leg_c1<leg_c2), name = \"F4\");\n",
        "\n",
        "#WEIGHT OF CARGO IS NOT MORE THAN FLIGHT CAPACITY\n",
        "\n",
        "mdl.addConstrs((\n",
        "    sum(\n",
        "        mdl.getVarByName(\"F\"+str([i,u,leg,index,k,leg_c])) * \n",
        "        load[index-1][3] \n",
        "        for index in L for k in S_len[index-1] for leg_c,_ in enumerate(S[index-1][k][:-1])\n",
        "    )\n",
        "    <= fleet[i-1][3] \n",
        "     for i in N for u in route_len[i-1] for leg,_ in enumerate(routes[i-1][u][:-1])), name = \"Weight_of_fleet\");\n",
        "\n",
        "#Transfering Costs\n",
        "mdl.addConstrs((mdl.getVarByName(\"Ctrf\"+str([index]))\n",
        "               ==sum(mdl.getVarByName(\"X\"+str([i,index,k,leg]))\n",
        "                       * mdl.getVarByName(\"X\"+str([g,index,k,leg+1]))\n",
        "                       * (dataset_airports[str(fleet[i-1][2])][S[index-1][k][leg+1]-1]+dataset_airports[str(fleet[g-1][2])][S[index-1][k][leg+1]-1])\n",
        "                       for k in S_len[index-1] for leg,_ in enumerate(S[index-1][k][:-2]) for i in N for g in N if i!=g) \n",
        "                for index in L ),name=\"Transfer_costs\");\n",
        "\n",
        "#Fixed Costs of Routes\n",
        "mdl.addConstrs((mdl.getVarByName(\"Cfix\"+str([i])) == \n",
        "                sum(mdl.getVarByName(\"B\"+str([i,u])) * \n",
        "               (sum(dataset_airports[str(routes[i-1][u][leg])][routes[i-1][u][leg+1]-1]\n",
        "                   *fleet[i-1][11]    \n",
        "               for leg,_ in enumerate(routes[i-1][u][:-1])) + fleet[i-1][10]) for u in route_len[i-1]) for i in N ), name = \"fixed_costs\");\n",
        "\n",
        "#Variable Costs of Routes\n",
        "mdl.addConstrs((mdl.getVarByName(\"Cvar\"+str([i])) ==\n",
        "                sum(mdl.getVarByName(\"X\"+str([i,index,k,leg])) * \n",
        "                    fleet[i-1][17] * load[index-1][3] * dataset_airports[str(S[index-1][k][leg])][S[index-1][k][leg+1]-1] \n",
        "                  for index in L for k in S_len[index-1] for leg,_ in enumerate(S[index-1][k][:-1])) for i in N ), name = \"variable_costs\");\n",
        "\n",
        "#Costs for external ships\n",
        "mdl.addConstrs((mdl.getVarByName(\"Cext\"+str([j])) == sum(mdl.getVarByName(\"Z\"+str([j,index,k,leg])) for index in L for k in S_len[index-1] for leg,_ in enumerate(S[index-1][k][:-1]))*ext[j-1][4]+\n",
        "               sum(mdl.getVarByName(\"Z\"+str([j,index,k,leg]))*ext[j-1][6]*load[index-1][3] \n",
        "                for index in L for k in S_len[index-1] for leg,_ in enumerate(S[index-1][k][:-1])) for j in E), name = \"External_costs\");\n"
      ]
    },
    {
      "cell_type": "code",
      "execution_count": null,
      "id": "ec0dde65",
      "metadata": {
        "id": "ec0dde65"
      },
      "outputs": [],
      "source": [
        "mdl.params.NonConvex = 2\n",
        "mdl.update()\n",
        "mdl.optimize()"
      ]
    },
    {
      "cell_type": "markdown",
      "id": "4281e813",
      "metadata": {
        "id": "4281e813"
      },
      "source": [
        "**Retrieving Solutions**\n",
        "\n",
        "After optimization has completed, you can retrieve solutions from the solution pool using a few parameters and attributes. The SolCount attribute indicates how many solutions were retained by the MIP solver. The best solution can always be obtained through the X attribute. Sub-optimal solutions can be obtained by first setting the SolutionNumber parameter and then querying the Xn attribute to obtain the solution or the PoolObjVal attribute to obtain the objective value for the corresponding solution."
      ]
    },
    {
      "cell_type": "markdown",
      "id": "73759ab6",
      "metadata": {
        "id": "73759ab6"
      },
      "source": [
        "**Process:**\n",
        "\n",
        " a) We have the solution space for routes.\n",
        "\n",
        " b) Retrieve the best optimal/sub-optimal solution routes.\n",
        "\n",
        " c) Run the original formulation to check if it is feasible time and maintenance wise across the entire Time period considered.\n",
        "\n",
        " d) If optimal stop otherwise remove this solution and start again from step b)"
      ]
    },
    {
      "cell_type": "code",
      "execution_count": null,
      "id": "2e046032",
      "metadata": {
        "id": "2e046032"
      },
      "outputs": [],
      "source": [
        ""
      ]
    }
  ],
  "metadata": {
    "kernelspec": {
      "display_name": "Python 3",
      "language": "python",
      "name": "python3"
    },
    "language_info": {
      "codemirror_mode": {
        "name": "ipython",
        "version": 3
      },
      "file_extension": ".py",
      "mimetype": "text/x-python",
      "name": "python",
      "nbconvert_exporter": "python",
      "pygments_lexer": "ipython3",
      "version": "3.8.8"
    },
    "colab": {
      "name": "Clusters.ipynb",
      "provenance": [],
      "include_colab_link": true
    }
  },
  "nbformat": 4,
  "nbformat_minor": 5
}