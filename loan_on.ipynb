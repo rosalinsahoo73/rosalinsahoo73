{
  "nbformat": 4,
  "nbformat_minor": 5,
  "metadata": {
    "kernelspec": {
      "display_name": "Python 3",
      "language": "python",
      "name": "python3"
    },
    "language_info": {
      "codemirror_mode": {
        "name": "ipython",
        "version": 3
      },
      "file_extension": ".py",
      "mimetype": "text/x-python",
      "name": "python",
      "nbconvert_exporter": "python",
      "pygments_lexer": "ipython3",
      "version": "3.8.5"
    },
    "colab": {
      "name": "loan-on.ipynb",
      "provenance": [],
      "include_colab_link": true
    }
  },
  "cells": [
    {
      "cell_type": "markdown",
      "metadata": {
        "id": "view-in-github",
        "colab_type": "text"
      },
      "source": [
        "<a href=\"https://colab.research.google.com/github/rosalinsahoo73/rosalinsahoo73/blob/main/loan_on.ipynb\" target=\"_parent\"><img src=\"https://colab.research.google.com/assets/colab-badge.svg\" alt=\"Open In Colab\"/></a>"
      ]
    },
    {
      "cell_type": "code",
      "metadata": {
        "id": "cdb376d8"
      },
      "source": [
        "import numpy as np \n",
        "import pandas as pd \n",
        "import matplotlib as plt"
      ],
      "id": "cdb376d8",
      "execution_count": null,
      "outputs": []
    },
    {
      "cell_type": "code",
      "metadata": {
        "id": "bdac3605"
      },
      "source": [
        "df =pd.read_csv('C:\\\\Users\\\\niteshiit\\\\Desktop\\\\certificate\\\\loan-on.csv') "
      ],
      "id": "bdac3605",
      "execution_count": null,
      "outputs": []
    },
    {
      "cell_type": "code",
      "metadata": {
        "id": "0a2c6887",
        "outputId": "4f799529-1184-4583-e4d7-dfeb6678b718"
      },
      "source": [
        "df.head()"
      ],
      "id": "0a2c6887",
      "execution_count": null,
      "outputs": [
        {
          "data": {
            "text/html": [
              "<div>\n",
              "<style scoped>\n",
              "    .dataframe tbody tr th:only-of-type {\n",
              "        vertical-align: middle;\n",
              "    }\n",
              "\n",
              "    .dataframe tbody tr th {\n",
              "        vertical-align: top;\n",
              "    }\n",
              "\n",
              "    .dataframe thead th {\n",
              "        text-align: right;\n",
              "    }\n",
              "</style>\n",
              "<table border=\"1\" class=\"dataframe\">\n",
              "  <thead>\n",
              "    <tr style=\"text-align: right;\">\n",
              "      <th></th>\n",
              "      <th>Loan_amt</th>\n",
              "      <th>Emp_type</th>\n",
              "      <th>STATE_ID</th>\n",
              "      <th>FICO</th>\n",
              "      <th>FICO_desc</th>\n",
              "      <th>Apply</th>\n",
              "    </tr>\n",
              "  </thead>\n",
              "  <tbody>\n",
              "    <tr>\n",
              "      <th>0</th>\n",
              "      <td>50578</td>\n",
              "      <td>Salaried</td>\n",
              "      <td>6</td>\n",
              "      <td>0</td>\n",
              "      <td>No Bureau History Available</td>\n",
              "      <td>0</td>\n",
              "    </tr>\n",
              "    <tr>\n",
              "      <th>1</th>\n",
              "      <td>47145</td>\n",
              "      <td>Self employed</td>\n",
              "      <td>6</td>\n",
              "      <td>598</td>\n",
              "      <td>I-Medium Risk</td>\n",
              "      <td>1</td>\n",
              "    </tr>\n",
              "    <tr>\n",
              "      <th>2</th>\n",
              "      <td>53278</td>\n",
              "      <td>Self employed</td>\n",
              "      <td>6</td>\n",
              "      <td>0</td>\n",
              "      <td>No Bureau History Available</td>\n",
              "      <td>0</td>\n",
              "    </tr>\n",
              "    <tr>\n",
              "      <th>3</th>\n",
              "      <td>57513</td>\n",
              "      <td>Self employed</td>\n",
              "      <td>6</td>\n",
              "      <td>305</td>\n",
              "      <td>L-Very High Risk</td>\n",
              "      <td>1</td>\n",
              "    </tr>\n",
              "    <tr>\n",
              "      <th>4</th>\n",
              "      <td>52378</td>\n",
              "      <td>Self employed</td>\n",
              "      <td>6</td>\n",
              "      <td>0</td>\n",
              "      <td>No Bureau History Available</td>\n",
              "      <td>1</td>\n",
              "    </tr>\n",
              "  </tbody>\n",
              "</table>\n",
              "</div>"
            ],
            "text/plain": [
              "   Loan_amt       Emp_type  STATE_ID  FICO                    FICO_desc  Apply\n",
              "0     50578       Salaried         6     0  No Bureau History Available      0\n",
              "1     47145  Self employed         6   598                I-Medium Risk      1\n",
              "2     53278  Self employed         6     0  No Bureau History Available      0\n",
              "3     57513  Self employed         6   305             L-Very High Risk      1\n",
              "4     52378  Self employed         6     0  No Bureau History Available      1"
            ]
          },
          "execution_count": 3,
          "metadata": {},
          "output_type": "execute_result"
        }
      ]
    },
    {
      "cell_type": "code",
      "metadata": {
        "id": "fbe7f3e1",
        "outputId": "17f81884-02f0-4e9a-c978-bb7a0e793452"
      },
      "source": [
        "missing_var= df.isnull().sum()\n",
        "print(missing_var)"
      ],
      "id": "fbe7f3e1",
      "execution_count": null,
      "outputs": [
        {
          "name": "stdout",
          "output_type": "stream",
          "text": [
            "Loan_amt     0\n",
            "Emp_type     5\n",
            "STATE_ID     0\n",
            "FICO         0\n",
            "FICO_desc    0\n",
            "Apply        0\n",
            "dtype: int64\n"
          ]
        }
      ]
    },
    {
      "cell_type": "code",
      "metadata": {
        "id": "612a4bca"
      },
      "source": [
        "\n",
        "\n",
        "df['Emp_type'] = df['Emp_type'].fillna(method = 'bfill')"
      ],
      "id": "612a4bca",
      "execution_count": null,
      "outputs": []
    },
    {
      "cell_type": "code",
      "metadata": {
        "id": "e47bb344"
      },
      "source": [
        "for col in ['Emp_type','STATE_ID','Apply','FICO_desc']:\n",
        "    \n",
        "    df[col] = df[col].astype('category')"
      ],
      "id": "e47bb344",
      "execution_count": null,
      "outputs": []
    },
    {
      "cell_type": "code",
      "metadata": {
        "id": "99acb521",
        "outputId": "91c63a24-4023-4b4f-ff34-1389050e9ea0"
      },
      "source": [
        "df.select_dtypes(include=['category']).nunique()"
      ],
      "id": "99acb521",
      "execution_count": null,
      "outputs": [
        {
          "data": {
            "text/plain": [
              "Emp_type      2\n",
              "STATE_ID      2\n",
              "FICO_desc    16\n",
              "Apply         2\n",
              "dtype: int64"
            ]
          },
          "execution_count": 9,
          "metadata": {},
          "output_type": "execute_result"
        }
      ]
    },
    {
      "cell_type": "code",
      "metadata": {
        "id": "5e779f0b"
      },
      "source": [
        "df = df.replace({'FICO_desc':{'C-Very Low Risk':'Low', 'A-Very Low Risk':'Low',\n",
        "                                                       'B-Very Low Risk':'Low', 'D-Very Low Risk':'Low',\n",
        "                                                       'F-Low Risk':'Low', 'E-Low Risk':'Low', 'G-Low Risk':'Low',\n",
        "                                                       'H-Medium Risk': 'Medium', 'I-Medium Risk': 'Medium',\n",
        "                                                       'J-High Risk':'High', 'K-High Risk':'High','L-Very High Risk':'Very High',\n",
        "                                                       'M-Very High Risk':'Very High','Not Scored: More than 50 active Accounts found':'Not Scored',\n",
        "                                                       'Not Scored: Only a Guarantor':'Not Scored','Not Scored: Not Enough Info available on the customer':'Not Scored',\n",
        "                                                        'Not Scored: No Activity seen on the customer (Inactive)':'Not Scored','Not Scored: No Updates available in last 36 months':'Not Scored',\n",
        "                                                       'Not Scored: Sufficient History Not Available':'Not Scored', 'No Bureau History Available':'Not Scored'\n",
        "                                                       }})"
      ],
      "id": "5e779f0b",
      "execution_count": null,
      "outputs": []
    },
    {
      "cell_type": "code",
      "metadata": {
        "id": "8ff73e29",
        "outputId": "8d7746f2-f30a-4d2a-d775-4ed3e5c31ed0"
      },
      "source": [
        "df.FICO_desc.value_counts()"
      ],
      "id": "8ff73e29",
      "execution_count": null,
      "outputs": [
        {
          "data": {
            "text/plain": [
              "Not Scored    86\n",
              "Low           40\n",
              "Medium         9\n",
              "Very High      7\n",
              "High           3\n",
              "Name: FICO_desc, dtype: int64"
            ]
          },
          "execution_count": 14,
          "metadata": {},
          "output_type": "execute_result"
        }
      ]
    },
    {
      "cell_type": "markdown",
      "metadata": {
        "id": "062ffb2f"
      },
      "source": [
        "# One hot encoding for categorical data"
      ],
      "id": "062ffb2f"
    },
    {
      "cell_type": "code",
      "metadata": {
        "id": "5a9107fb"
      },
      "source": [
        "Predictors= df[['Emp_type','STATE_ID','FICO_desc']]\n",
        "One_hot_encoded_training_predictors = pd.get_dummies(Predictors)"
      ],
      "id": "5a9107fb",
      "execution_count": null,
      "outputs": []
    },
    {
      "cell_type": "code",
      "metadata": {
        "id": "e7373f19"
      },
      "source": [
        "df=pd.merge(df[['Loan_amt','FICO','Apply']],\n",
        "One_hot_encoded_training_predictors,left_index=True, right_index=True)"
      ],
      "id": "e7373f19",
      "execution_count": null,
      "outputs": []
    },
    {
      "cell_type": "code",
      "metadata": {
        "id": "405767c8"
      },
      "source": [
        "X=df.drop('Apply',axis=1).values \n",
        "y=df['Apply'].values "
      ],
      "id": "405767c8",
      "execution_count": null,
      "outputs": []
    },
    {
      "cell_type": "code",
      "metadata": {
        "id": "fbca6e53"
      },
      "source": [
        "from sklearn.model_selection import train_test_split\n",
        "X_train, X_test, y_train, y_test = train_test_split(X, y, test_size=0.3,\n",
        "                                                    random_state=1)"
      ],
      "id": "fbca6e53",
      "execution_count": null,
      "outputs": []
    },
    {
      "cell_type": "markdown",
      "metadata": {
        "id": "e9cef303"
      },
      "source": [
        "# without regulariser"
      ],
      "id": "e9cef303"
    },
    {
      "cell_type": "code",
      "metadata": {
        "id": "73d0709b",
        "outputId": "59669f48-3f29-4214-960b-6f638bf49e5b"
      },
      "source": [
        "from sklearn.linear_model import LogisticRegression\n",
        "from sklearn import metrics\n",
        "\n",
        "logreg = LogisticRegression()\n",
        "logreg.fit(X_train, y_train)"
      ],
      "id": "73d0709b",
      "execution_count": null,
      "outputs": [
        {
          "data": {
            "text/plain": [
              "LogisticRegression()"
            ]
          },
          "execution_count": 30,
          "metadata": {},
          "output_type": "execute_result"
        }
      ]
    },
    {
      "cell_type": "code",
      "metadata": {
        "id": "361392c0",
        "outputId": "988377a2-1eb1-4f55-8929-87fec34d209f"
      },
      "source": [
        "from sklearn.metrics import classification_report\n",
        "predictions = logreg.predict(X_train)\n",
        "print(classification_report(y_train,predictions))\n",
        "print(\"Accuracy:\",metrics.accuracy_score(y_train, predictions))"
      ],
      "id": "361392c0",
      "execution_count": null,
      "outputs": [
        {
          "name": "stdout",
          "output_type": "stream",
          "text": [
            "              precision    recall  f1-score   support\n",
            "\n",
            "           0       0.69      1.00      0.82        70\n",
            "           1       0.00      0.00      0.00        31\n",
            "\n",
            "    accuracy                           0.69       101\n",
            "   macro avg       0.35      0.50      0.41       101\n",
            "weighted avg       0.48      0.69      0.57       101\n",
            "\n",
            "Accuracy: 0.693069306930693\n"
          ]
        },
        {
          "name": "stderr",
          "output_type": "stream",
          "text": [
            "C:\\Users\\niteshiit\\anaconda3\\envs\\deep\\lib\\site-packages\\sklearn\\metrics\\_classification.py:1248: UndefinedMetricWarning: Precision and F-score are ill-defined and being set to 0.0 in labels with no predicted samples. Use `zero_division` parameter to control this behavior.\n",
            "  _warn_prf(average, modifier, msg_start, len(result))\n",
            "C:\\Users\\niteshiit\\anaconda3\\envs\\deep\\lib\\site-packages\\sklearn\\metrics\\_classification.py:1248: UndefinedMetricWarning: Precision and F-score are ill-defined and being set to 0.0 in labels with no predicted samples. Use `zero_division` parameter to control this behavior.\n",
            "  _warn_prf(average, modifier, msg_start, len(result))\n",
            "C:\\Users\\niteshiit\\anaconda3\\envs\\deep\\lib\\site-packages\\sklearn\\metrics\\_classification.py:1248: UndefinedMetricWarning: Precision and F-score are ill-defined and being set to 0.0 in labels with no predicted samples. Use `zero_division` parameter to control this behavior.\n",
            "  _warn_prf(average, modifier, msg_start, len(result))\n"
          ]
        }
      ]
    },
    {
      "cell_type": "markdown",
      "metadata": {
        "id": "17569ae5"
      },
      "source": [
        "# Regularisation used"
      ],
      "id": "17569ae5"
    },
    {
      "cell_type": "code",
      "metadata": {
        "id": "ec972626",
        "outputId": "2f6a13ff-5c6f-4e26-b8f2-dec254380cd8",
        "colab": {
          "base_uri": "https://localhost:8080/",
          "height": 197
        }
      },
      "source": [
        "from sklearn.linear_model import LogisticRegression\n",
        "\n",
        "model = LogisticRegression(\n",
        "    penalty='l1',\n",
        "      solver='liblinear'\n",
        "    )\n",
        "\n",
        "model.fit(X_train, y_train)"
      ],
      "id": "ec972626",
      "execution_count": null,
      "outputs": [
        {
          "output_type": "error",
          "ename": "NameError",
          "evalue": "ignored",
          "traceback": [
            "\u001b[0;31m---------------------------------------------------------------------------\u001b[0m",
            "\u001b[0;31mNameError\u001b[0m                                 Traceback (most recent call last)",
            "\u001b[0;32m<ipython-input-1-e42fff6af69d>\u001b[0m in \u001b[0;36m<module>\u001b[0;34m()\u001b[0m\n\u001b[1;32m      6\u001b[0m     )\n\u001b[1;32m      7\u001b[0m \u001b[0;34m\u001b[0m\u001b[0m\n\u001b[0;32m----> 8\u001b[0;31m \u001b[0mmodel\u001b[0m\u001b[0;34m.\u001b[0m\u001b[0mfit\u001b[0m\u001b[0;34m(\u001b[0m\u001b[0mX_train\u001b[0m\u001b[0;34m,\u001b[0m \u001b[0my_train\u001b[0m\u001b[0;34m)\u001b[0m\u001b[0;34m\u001b[0m\u001b[0;34m\u001b[0m\u001b[0m\n\u001b[0m",
            "\u001b[0;31mNameError\u001b[0m: name 'X_train' is not defined"
          ]
        }
      ]
    },
    {
      "cell_type": "code",
      "metadata": {
        "id": "2a0dc404"
      },
      "source": [
        "y_pred1 = model.predict(X_train)"
      ],
      "id": "2a0dc404",
      "execution_count": null,
      "outputs": []
    },
    {
      "cell_type": "code",
      "metadata": {
        "id": "6925afee",
        "outputId": "688bf487-ed7a-4d4e-9d3c-6c79b0238983"
      },
      "source": [
        "metrics.accuracy_score(y_train, y_pred1)"
      ],
      "id": "6925afee",
      "execution_count": null,
      "outputs": [
        {
          "data": {
            "text/plain": [
              "0.7227722772277227"
            ]
          },
          "execution_count": 49,
          "metadata": {},
          "output_type": "execute_result"
        }
      ]
    },
    {
      "cell_type": "code",
      "metadata": {
        "id": "83bc017b"
      },
      "source": [
        ""
      ],
      "id": "83bc017b",
      "execution_count": null,
      "outputs": []
    }
  ]
}